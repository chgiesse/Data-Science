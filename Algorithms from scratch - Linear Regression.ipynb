{
 "cells": [
  {
   "cell_type": "markdown",
   "id": "0f43359c",
   "metadata": {},
   "source": [
    "### Linear Regression from scratch\n",
    "\n",
    "In this notebook we will try to build the linear regression model from scratch."
   ]
  },
  {
   "cell_type": "code",
   "execution_count": 3,
   "id": "3dd9c8d0",
   "metadata": {},
   "outputs": [],
   "source": [
    "import numpy as np\n",
    "import pandas as pd \n",
    "import matplotlib.pyplot as plt "
   ]
  },
  {
   "cell_type": "code",
   "execution_count": 2,
   "id": "e2678d8b",
   "metadata": {},
   "outputs": [],
   "source": [
    "# Variables to store mean and std\n",
    "mu = []\n",
    "std = []"
   ]
  },
  {
   "cell_type": "code",
   "execution_count": 4,
   "id": "25b2161b",
   "metadata": {},
   "outputs": [],
   "source": [
    "# function for loading data\n",
    "def load_data(filename):\n",
    "    df = pd.read_csv(filename, sep=\",\", index_col=False)\n",
    "    df.columns = [\"housesize\", \"rooms\", \"price\"]\n",
    "    data = np.array(df, dtype=float)\n",
    "    plot_data(data[:, :2], data[:, -1])\n",
    "    normalize(data)\n",
    "    return data[:, :2], data[:, -1]"
   ]
  },
  {
   "cell_type": "markdown",
   "id": "a05bd344",
   "metadata": {},
   "source": [
    "#### Normalization \n",
    "\n",
    "To avoid bias in our machine learning model we normalize the data, so that the values in all columns lay in the same range. Beside that it also reduces the risk of inbalance in the variance and mathematical mean."
   ]
  },
  {
   "cell_type": "code",
   "execution_count": 5,
   "id": "32acc1ca",
   "metadata": {},
   "outputs": [],
   "source": [
    "def normalize(data):\n",
    "    for i in range(0, data.shape[1] - 1):\n",
    "        mu.append(np.mean(data[:, i]))\n",
    "        std.append(np.std(data[:, i]))\n",
    "        data[:, i] = ((data[:, i] - np.mean(data[:, i])) / np.std(data[:, i]))"
   ]
  },
  {
   "cell_type": "markdown",
   "id": "88775826",
   "metadata": {},
   "source": [
    "#### Plot the original data \n",
    "\n",
    "To check if the current data set works for linear regression, it is a easy way to plot the data and see if it fits the purpose."
   ]
  },
  {
   "cell_type": "code",
   "execution_count": 6,
   "id": "8e58246a",
   "metadata": {},
   "outputs": [],
   "source": [
    "def plot_data(x, y):\n",
    "    plt.xlabel(\"housesize\")\n",
    "    plt.ylabel(\"price\")\n",
    "    plt.plot(x[:, 0], y, \"bo\")\n",
    "    plt.show()"
   ]
  },
  {
   "cell_type": "markdown",
   "id": "a53a20e0",
   "metadata": {},
   "source": [
    "#### Hypothesis of linear regression\n",
    "\n",
    "Our hypothesis is:\n",
    "    \n",
    "    ß = theta\n",
    "    hß(x) = ß0x0 + ß1x1 ... ßnxn\n",
    "\n",
    "We use use hß(x) later in the cost function."
   ]
  },
  {
   "cell_type": "code",
   "execution_count": 7,
   "id": "442a4bfc",
   "metadata": {},
   "outputs": [],
   "source": [
    "def h(x, theta):\n",
    "    return np.matmul(x, theta)"
   ]
  },
  {
   "cell_type": "markdown",
   "id": "9c9a81d6",
   "metadata": {},
   "source": [
    "#### Cost function\n",
    "\n",
    "To evaluate the quality of our model we define the cost function J(ß). This also the function we try minimize in the next step.  "
   ]
  },
  {
   "cell_type": "code",
   "execution_count": 8,
   "id": "9f7f7a65",
   "metadata": {},
   "outputs": [],
   "source": [
    "def cost_function(x, y, theta):\n",
    "    return ((h(x, theta)-y).T@(h(x, theta)-y))/(2*y.shape[0])"
   ]
  },
  {
   "cell_type": "markdown",
   "id": "51683e0e",
   "metadata": {},
   "source": [
    "#### Gradient descent \n",
    "\n",
    "Gradient descent is our optimization algorithm that aims to adjust the parameters so that the error gets smaller and smaller. \n",
    "To update our parameters we multiply the derivative of the cost function with the learning rate alpha and subtract it from the current parametrs ß. \n",
    "The function returns the parameter vector ß and J_all which is a list of the cost function after each epoche.   "
   ]
  },
  {
   "cell_type": "code",
   "execution_count": 9,
   "id": "a5d9689d",
   "metadata": {},
   "outputs": [],
   "source": [
    "# define Gradient descent\n",
    "def gradient_descent(x, y, theta, learning_rate=0.1, num_epochs=10):\n",
    "    m = x.shape[0]\n",
    "    J_all = []\n",
    "\n",
    "    for i in range(num_epochs):\n",
    "        h_x = h(x, theta)\n",
    "        cost_ = (1/m)*(x.T@(h_x - y))\n",
    "        theta = theta - learning_rate*cost_\n",
    "        J_all.append(cost_function(x, y, theta))\n",
    "\n",
    "    return theta, J_all"
   ]
  },
  {
   "cell_type": "code",
   "execution_count": 10,
   "id": "02b8341c",
   "metadata": {},
   "outputs": [],
   "source": [
    "def plot_cost(J_all, num_epochs):\n",
    "    plt.xlabel(\"Epochs\")\n",
    "    plt.ylabel(\"Cost\")\n",
    "    plt.plot(num_epochs, J_all, \"m\", linewidth=\"5\")\n",
    "    plt.show()"
   ]
  },
  {
   "cell_type": "code",
   "execution_count": 19,
   "id": "618e4357",
   "metadata": {},
   "outputs": [],
   "source": [
    "def test(theta, x):\n",
    "    x[0] = ((x[0] - mu[0])/std[0])\n",
    "    x[1] = ((x[1] - mu[1])/std[1])\n",
    "\n",
    "    y = theta[0] + theta[1]*x[0] + theta[2]*x[1]\n",
    "    print(\"Price of house: \", y)"
   ]
  },
  {
   "cell_type": "markdown",
   "id": "9e06cdd1",
   "metadata": {},
   "source": [
    "#### Call functions \n"
   ]
  },
  {
   "cell_type": "code",
   "execution_count": 18,
   "id": "39c05c32",
   "metadata": {},
   "outputs": [
    {
     "data": {
      "image/png": "[encoded data removed]",
      "text/plain": [
       "<Figure size 432x288 with 1 Axes>"
      ]
     },
     "metadata": {
      "needs_background": "light"
     },
     "output_type": "display_data"
    },
    {
     "name": "stdout",
     "output_type": "stream",
     "text": [
      "Cost:  \n",
      " [[2.08475311e+09]]\n",
      "Parameters:  \n",
      " [[ 3.37371711e+05]\n",
      " [ 1.04066024e+05]\n",
      " [-6.47874139e+01]]\n"
     ]
    }
   ],
   "source": [
    "x, y = load_data(\"house_price_data.txt\")\n",
    "# reshape the list to a one dimensional vector\n",
    "y = np.reshape(y, (46, 1))\n",
    "# linear regression assumes that x1 is always 1 so we ad a vector with 1s\n",
    "x = np.hstack((np.ones((x.shape[0], 1)), x))\n",
    "# initialize vector theta with zeros\n",
    "theta = np.zeros((x.shape[1], 1))\n",
    "# set learning rate to 0.1\n",
    "learning_rate = 0.1\n",
    "num_epochs = 50\n",
    "theta, J_all = gradient_descent(x, y, theta, learning_rate, num_epochs)\n",
    "J = cost_function(x, y, theta)\n",
    "print(\"Cost: \",\"\\n\", J)\n",
    "print(\"Parameters: \",\"\\n\", theta)"
   ]
  },
  {
   "cell_type": "code",
   "execution_count": 20,
   "id": "53761789",
   "metadata": {},
   "outputs": [
    {
     "data": {
      "image/png": "[encoded data removed]",
      "text/plain": [
       "<Figure size 432x288 with 1 Axes>"
      ]
     },
     "metadata": {
      "needs_background": "light"
     },
     "output_type": "display_data"
    },
    {
     "name": "stdout",
     "output_type": "stream",
     "text": [
      "Price of house:  [285201.81900083]\n"
     ]
    }
   ],
   "source": [
    "# for testing and plotting cost\n",
    "n_epochs = []\n",
    "jplot = []\n",
    "count = 0\n",
    "for i in J_all:\n",
    "    jplot.append(i[0][0])\n",
    "    n_epochs.append(count)\n",
    "    count += 1\n",
    "jplot = np.array(jplot)\n",
    "n_epochs = np.array(n_epochs)\n",
    "plot_cost(jplot, n_epochs)\n",
    "\n",
    "test(theta, [1600, 3])"
   ]
  }
 ],
 "metadata": {
  "kernelspec": {
   "display_name": "Python 3 (ipykernel)",
   "language": "python",
   "name": "python3"
  },
  "language_info": {
   "codemirror_mode": {
    "name": "ipython",
    "version": 3
   },
   "file_extension": ".py",
   "mimetype": "text/x-python",
   "name": "python",
   "nbconvert_exporter": "python",
   "pygments_lexer": "ipython3",
   "version": "3.9.7"
  }
 },
 "nbformat": 4,
 "nbformat_minor": 5
}
