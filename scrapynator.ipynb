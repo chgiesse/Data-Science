{
 "cells": [
  {
   "cell_type": "code",
   "execution_count": 27,
   "source": [
    "import urllib\n",
    "from lxml import html, etree\n",
    "from lxml.cssselect import CSSSelector\n",
    "import requests"
   ],
   "outputs": [],
   "metadata": {}
  },
  {
   "cell_type": "code",
   "execution_count": 37,
   "source": [
    "params = {\n",
    "  \"where\":\"Hamburg\",\n",
    "  \"what\":\"Administrator\",\n",
    "  \"radius\": \"30\"\n",
    "}\n",
    "\n",
    "base_url = \"https://www.stepstone.de/5/ergebnisliste.html\"\n",
    "url_params = urllib.parse.urlencode(params)\n",
    "\n",
    "req_url = base_url + \"?\" + url_params"
   ],
   "outputs": [],
   "metadata": {}
  },
  {
   "cell_type": "code",
   "execution_count": 38,
   "source": [
    "headers = {\n",
    "    \"User-Agent\": \"Mozilla/5.0 (Macintosh; Intel Mac OS X 10_15_4) AppleWebKit/537.36 (KHTML, like Gecko) Chrome/83.0.4103.97 Safari/537.36\"}\n",
    "\n",
    "\n",
    "res = requests.get(\n",
    "    req_url,\n",
    "    headers=headers)\n",
    "\n",
    "tree = html.fromstring(res.content)"
   ],
   "outputs": [],
   "metadata": {}
  },
  {
   "cell_type": "code",
   "execution_count": 39,
   "source": [
    "el = tree.xpath(\n",
    "    '//div[starts-with(@class, \"ResultInfoWrapper\")]//h1//span[@class=\"at-facet-header-total-results\"]')\n",
    "\n",
    "print(etree.tostring(el[0]))"
   ],
   "outputs": [
    {
     "output_type": "stream",
     "name": "stdout",
     "text": [
      "b'<span class=\"at-facet-header-total-results\">525</span> Treffer f&#252;r '\n"
     ]
    }
   ],
   "metadata": {}
  }
 ],
 "metadata": {
  "orig_nbformat": 4,
  "language_info": {
   "name": "python",
   "version": "3.9.6",
   "mimetype": "text/x-python",
   "codemirror_mode": {
    "name": "ipython",
    "version": 3
   },
   "pygments_lexer": "ipython3",
   "nbconvert_exporter": "python",
   "file_extension": ".py"
  },
  "kernelspec": {
   "name": "python3",
   "display_name": "Python 3.9.6 64-bit"
  },
  "interpreter": {
   "hash": "aee8b7b246df8f9039afb4144a1f6fd8d2ca17a180786b69acc140d282b71a49"
  }
 },
 "nbformat": 4,
 "nbformat_minor": 2
}